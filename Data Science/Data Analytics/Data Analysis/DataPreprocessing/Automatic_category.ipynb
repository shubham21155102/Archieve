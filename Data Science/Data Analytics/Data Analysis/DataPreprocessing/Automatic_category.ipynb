{
 "cells": [
  {
   "cell_type": "markdown",
   "id": "5cfbf103",
   "metadata": {},
   "source": [
    "\n",
    "# <font size=\"10rem\" color=\"green\"> Automatic Category Analysis </font>"
   ]
  },
  {
   "cell_type": "code",
   "execution_count": null,
   "id": "0b062053",
   "metadata": {},
   "outputs": [],
   "source": [
    "import pandas as pd"
   ]
  },
  {
   "cell_type": "code",
   "execution_count": 2,
   "id": "b96ec2be",
   "metadata": {},
   "outputs": [],
   "source": [
    "df = pd.read_csv(\"googleplaystore.csv\").dropna()"
   ]
  },
  {
   "cell_type": "code",
   "execution_count": 3,
   "id": "c337a378",
   "metadata": {
    "scrolled": false
   },
   "outputs": [
    {
     "data": {
      "text/html": [
       "<div>\n",
       "<style scoped>\n",
       "    .dataframe tbody tr th:only-of-type {\n",
       "        vertical-align: middle;\n",
       "    }\n",
       "\n",
       "    .dataframe tbody tr th {\n",
       "        vertical-align: top;\n",
       "    }\n",
       "\n",
       "    .dataframe thead th {\n",
       "        text-align: right;\n",
       "    }\n",
       "</style>\n",
       "<table border=\"1\" class=\"dataframe\">\n",
       "  <thead>\n",
       "    <tr style=\"text-align: right;\">\n",
       "      <th></th>\n",
       "      <th>App</th>\n",
       "      <th>Category</th>\n",
       "      <th>Rating</th>\n",
       "      <th>Reviews</th>\n",
       "      <th>Size</th>\n",
       "      <th>Installs</th>\n",
       "      <th>Type</th>\n",
       "      <th>Price</th>\n",
       "      <th>Content Rating</th>\n",
       "      <th>Genres</th>\n",
       "      <th>Last Updated</th>\n",
       "      <th>Current Ver</th>\n",
       "      <th>Android Ver</th>\n",
       "    </tr>\n",
       "  </thead>\n",
       "  <tbody>\n",
       "    <tr>\n",
       "      <th>0</th>\n",
       "      <td>Photo Editor &amp; Candy Camera &amp; Grid &amp; ScrapBook</td>\n",
       "      <td>ART_AND_DESIGN</td>\n",
       "      <td>4.1</td>\n",
       "      <td>159</td>\n",
       "      <td>19M</td>\n",
       "      <td>10,000+</td>\n",
       "      <td>Free</td>\n",
       "      <td>0</td>\n",
       "      <td>Everyone</td>\n",
       "      <td>Art &amp; Design</td>\n",
       "      <td>January 7, 2018</td>\n",
       "      <td>1.0.0</td>\n",
       "      <td>4.0.3 and up</td>\n",
       "    </tr>\n",
       "    <tr>\n",
       "      <th>1</th>\n",
       "      <td>Coloring book moana</td>\n",
       "      <td>ART_AND_DESIGN</td>\n",
       "      <td>3.9</td>\n",
       "      <td>967</td>\n",
       "      <td>14M</td>\n",
       "      <td>500,000+</td>\n",
       "      <td>Free</td>\n",
       "      <td>0</td>\n",
       "      <td>Everyone</td>\n",
       "      <td>Art &amp; Design;Pretend Play</td>\n",
       "      <td>January 15, 2018</td>\n",
       "      <td>2.0.0</td>\n",
       "      <td>4.0.3 and up</td>\n",
       "    </tr>\n",
       "    <tr>\n",
       "      <th>2</th>\n",
       "      <td>U Launcher Lite – FREE Live Cool Themes, Hide ...</td>\n",
       "      <td>ART_AND_DESIGN</td>\n",
       "      <td>4.7</td>\n",
       "      <td>87510</td>\n",
       "      <td>8.7M</td>\n",
       "      <td>5,000,000+</td>\n",
       "      <td>Free</td>\n",
       "      <td>0</td>\n",
       "      <td>Everyone</td>\n",
       "      <td>Art &amp; Design</td>\n",
       "      <td>August 1, 2018</td>\n",
       "      <td>1.2.4</td>\n",
       "      <td>4.0.3 and up</td>\n",
       "    </tr>\n",
       "    <tr>\n",
       "      <th>3</th>\n",
       "      <td>Sketch - Draw &amp; Paint</td>\n",
       "      <td>ART_AND_DESIGN</td>\n",
       "      <td>4.5</td>\n",
       "      <td>215644</td>\n",
       "      <td>25M</td>\n",
       "      <td>50,000,000+</td>\n",
       "      <td>Free</td>\n",
       "      <td>0</td>\n",
       "      <td>Teen</td>\n",
       "      <td>Art &amp; Design</td>\n",
       "      <td>June 8, 2018</td>\n",
       "      <td>Varies with device</td>\n",
       "      <td>4.2 and up</td>\n",
       "    </tr>\n",
       "    <tr>\n",
       "      <th>4</th>\n",
       "      <td>Pixel Draw - Number Art Coloring Book</td>\n",
       "      <td>ART_AND_DESIGN</td>\n",
       "      <td>4.3</td>\n",
       "      <td>967</td>\n",
       "      <td>2.8M</td>\n",
       "      <td>100,000+</td>\n",
       "      <td>Free</td>\n",
       "      <td>0</td>\n",
       "      <td>Everyone</td>\n",
       "      <td>Art &amp; Design;Creativity</td>\n",
       "      <td>June 20, 2018</td>\n",
       "      <td>1.1</td>\n",
       "      <td>4.4 and up</td>\n",
       "    </tr>\n",
       "  </tbody>\n",
       "</table>\n",
       "</div>"
      ],
      "text/plain": [
       "                                                 App        Category  Rating  \\\n",
       "0     Photo Editor & Candy Camera & Grid & ScrapBook  ART_AND_DESIGN     4.1   \n",
       "1                                Coloring book moana  ART_AND_DESIGN     3.9   \n",
       "2  U Launcher Lite – FREE Live Cool Themes, Hide ...  ART_AND_DESIGN     4.7   \n",
       "3                              Sketch - Draw & Paint  ART_AND_DESIGN     4.5   \n",
       "4              Pixel Draw - Number Art Coloring Book  ART_AND_DESIGN     4.3   \n",
       "\n",
       "  Reviews  Size     Installs  Type Price Content Rating  \\\n",
       "0     159   19M      10,000+  Free     0       Everyone   \n",
       "1     967   14M     500,000+  Free     0       Everyone   \n",
       "2   87510  8.7M   5,000,000+  Free     0       Everyone   \n",
       "3  215644   25M  50,000,000+  Free     0           Teen   \n",
       "4     967  2.8M     100,000+  Free     0       Everyone   \n",
       "\n",
       "                      Genres      Last Updated         Current Ver  \\\n",
       "0               Art & Design   January 7, 2018               1.0.0   \n",
       "1  Art & Design;Pretend Play  January 15, 2018               2.0.0   \n",
       "2               Art & Design    August 1, 2018               1.2.4   \n",
       "3               Art & Design      June 8, 2018  Varies with device   \n",
       "4    Art & Design;Creativity     June 20, 2018                 1.1   \n",
       "\n",
       "    Android Ver  \n",
       "0  4.0.3 and up  \n",
       "1  4.0.3 and up  \n",
       "2  4.0.3 and up  \n",
       "3    4.2 and up  \n",
       "4    4.4 and up  "
      ]
     },
     "execution_count": 3,
     "metadata": {},
     "output_type": "execute_result"
    }
   ],
   "source": [
    "df.head(5)"
   ]
  },
  {
   "cell_type": "markdown",
   "id": "777caf66",
   "metadata": {},
   "source": [
    "## ``Q1. Total number of apps in each category``"
   ]
  },
  {
   "cell_type": "code",
   "execution_count": 9,
   "id": "36059a06",
   "metadata": {
    "scrolled": true
   },
   "outputs": [
    {
     "name": "stdout",
     "output_type": "stream",
     "text": [
      "ART_AND_DESIGN : 61\n",
      "AUTO_AND_VEHICLES : 73\n",
      "BEAUTY : 42\n",
      "BOOKS_AND_REFERENCE : 178\n",
      "BUSINESS : 303\n",
      "COMICS : 58\n",
      "COMMUNICATION : 328\n",
      "DATING : 195\n",
      "EDUCATION : 155\n",
      "ENTERTAINMENT : 149\n",
      "EVENTS : 45\n",
      "FINANCE : 323\n",
      "FOOD_AND_DRINK : 109\n",
      "HEALTH_AND_FITNESS : 297\n",
      "HOUSE_AND_HOME : 76\n",
      "LIBRARIES_AND_DEMO : 64\n",
      "LIFESTYLE : 314\n",
      "GAME : 1097\n",
      "FAMILY : 1746\n",
      "MEDICAL : 350\n",
      "SOCIAL : 259\n",
      "SHOPPING : 238\n",
      "PHOTOGRAPHY : 317\n",
      "SPORTS : 319\n",
      "TRAVEL_AND_LOCAL : 226\n",
      "TOOLS : 733\n",
      "PERSONALIZATION : 312\n",
      "PRODUCTIVITY : 351\n",
      "PARENTING : 50\n",
      "WEATHER : 75\n",
      "VIDEO_PLAYERS : 160\n",
      "NEWS_AND_MAGAZINES : 233\n",
      "MAPS_AND_NAVIGATION : 124\n"
     ]
    }
   ],
   "source": [
    "categories = {}\n",
    "\n",
    "for name in df['Category'].unique():\n",
    "    ct = 0\n",
    "    for i in df['Category']:\n",
    "        if(i == name):\n",
    "            ct += 1\n",
    "    categories[name] = ct\n",
    "    \n",
    "for i in categories:\n",
    "    print(i,\":\" ,categories[i])"
   ]
  },
  {
   "cell_type": "markdown",
   "id": "bcad969f",
   "metadata": {},
   "source": [
    "## ``Q2. Total number of apps in each Type``"
   ]
  },
  {
   "cell_type": "code",
   "execution_count": 5,
   "id": "da6349fe",
   "metadata": {},
   "outputs": [
    {
     "name": "stdout",
     "output_type": "stream",
     "text": [
      "{'Free': 8715, 'Paid': 645}\n"
     ]
    }
   ],
   "source": [
    "types = {}\n",
    "\n",
    "for name in df['Type'].unique():\n",
    "    ct = 0\n",
    "    for i in df['Type']:\n",
    "        if(i == name):\n",
    "            ct += 1\n",
    "    types[name] = ct\n",
    "    \n",
    "print(types)"
   ]
  },
  {
   "cell_type": "markdown",
   "id": "a0416ca9",
   "metadata": {},
   "source": [
    "## ``Q3. Total number of apps in each Content Rating``"
   ]
  },
  {
   "cell_type": "code",
   "execution_count": 6,
   "id": "e7fab457",
   "metadata": {},
   "outputs": [
    {
     "name": "stdout",
     "output_type": "stream",
     "text": [
      "{'Everyone': 7414, 'Teen': 1084, 'Everyone 10+': 397, 'Mature 17+': 461, 'Adults only 18+': 3, 'Unrated': 1}\n"
     ]
    }
   ],
   "source": [
    "content_rating = {}\n",
    "\n",
    "for name in df['Content Rating'].unique():\n",
    "    ct = 0\n",
    "    for i in df['Content Rating']:\n",
    "        if(i == name):\n",
    "            ct += 1\n",
    "    content_rating[name] = ct\n",
    "    \n",
    "print(content_rating)"
   ]
  },
  {
   "cell_type": "code",
   "execution_count": 13,
   "id": "059a8437",
   "metadata": {},
   "outputs": [
    {
     "data": {
      "text/plain": [
       "count    9360.000000\n",
       "mean        4.191838\n",
       "std         0.515263\n",
       "min         1.000000\n",
       "25%         4.000000\n",
       "50%         4.300000\n",
       "75%         4.500000\n",
       "max         5.000000\n",
       "Name: Rating, dtype: float64"
      ]
     },
     "execution_count": 13,
     "metadata": {},
     "output_type": "execute_result"
    }
   ],
   "source": [
    "df['Rating'].describe()"
   ]
  },
  {
   "cell_type": "code",
   "execution_count": 12,
   "id": "c61f84f4",
   "metadata": {},
   "outputs": [
    {
     "data": {
      "text/plain": [
       "count     9360\n",
       "unique    5990\n",
       "top          2\n",
       "freq        83\n",
       "Name: Reviews, dtype: object"
      ]
     },
     "execution_count": 12,
     "metadata": {},
     "output_type": "execute_result"
    }
   ],
   "source": [
    "df['Reviews'].describe()"
   ]
  },
  {
   "cell_type": "code",
   "execution_count": null,
   "id": "cc3e0f93",
   "metadata": {},
   "outputs": [],
   "source": []
  }
 ],
 "metadata": {
  "kernelspec": {
   "display_name": "Python 3",
   "language": "python",
   "name": "python3"
  },
  "language_info": {
   "codemirror_mode": {
    "name": "ipython",
    "version": 3
   },
   "file_extension": ".py",
   "mimetype": "text/x-python",
   "name": "python",
   "nbconvert_exporter": "python",
   "pygments_lexer": "ipython3",
   "version": "3.11.4"
  }
 },
 "nbformat": 4,
 "nbformat_minor": 5
}
