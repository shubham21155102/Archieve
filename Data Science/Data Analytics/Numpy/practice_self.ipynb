{
 "cells": [
  {
   "cell_type": "markdown",
   "metadata": {},
   "source": [
    "# Intro"
   ]
  },
  {
   "cell_type": "code",
   "execution_count": 1,
   "metadata": {},
   "outputs": [
    {
     "name": "stdout",
     "output_type": "stream",
     "text": [
      "[[0. 0. 0.]\n",
      " [0. 0. 0.]\n",
      " [0. 0. 0.]]\n"
     ]
    }
   ],
   "source": [
    "import numpy as np\n",
    "\n",
    "a = np.zeros((3,3))\n",
    "print(a)"
   ]
  },
  {
   "cell_type": "code",
   "execution_count": 2,
   "metadata": {},
   "outputs": [
    {
     "name": "stdout",
     "output_type": "stream",
     "text": [
      "[1, 2, 3]\n"
     ]
    }
   ],
   "source": [
    "lst = [1,2,3] # This is 1D list\n",
    "print(lst)"
   ]
  },
  {
   "cell_type": "code",
   "execution_count": 3,
   "metadata": {},
   "outputs": [
    {
     "name": "stdout",
     "output_type": "stream",
     "text": [
      "[[1, 2, 3], [4, 5, 6], [7, 8, 9]]\n"
     ]
    }
   ],
   "source": [
    "lst2 = [[1,2,3],[4,5,6],[7,8,9]] # This is 2D list\n",
    "print(lst2)"
   ]
  },
  {
   "cell_type": "code",
   "execution_count": 4,
   "metadata": {},
   "outputs": [
    {
     "name": "stdout",
     "output_type": "stream",
     "text": [
      "[1 2 3 5 6 7 8 9]\n",
      "[1 2 3 5 6 7 8 9]\n"
     ]
    }
   ],
   "source": [
    "ls = np.array([1,2,3,5,6,7,8,9])\n",
    "# ls1 = np.array(1,2,3,4)\n",
    "ls2 = np.array((1,2,3,5,6,7,8,9))\n",
    "print(ls)\n",
    "# print(ls1)\n",
    "print(ls2)"
   ]
  },
  {
   "cell_type": "code",
   "execution_count": 5,
   "metadata": {},
   "outputs": [
    {
     "name": "stdout",
     "output_type": "stream",
     "text": [
      "[[1 2 3]\n",
      " [4 5 6]\n",
      " [7 8 9]]\n",
      "<class 'numpy.ndarray'>\n",
      "(3, 3)\n",
      "int32\n",
      "2\n"
     ]
    }
   ],
   "source": [
    "arr = np.array(lst2) # This is 2D array\n",
    "print(arr)\n",
    "print(type(arr))\n",
    "print(arr.shape)\n",
    "print(arr.dtype)\n",
    "print(arr.ndim)"
   ]
  },
  {
   "cell_type": "markdown",
   "metadata": {},
   "source": [
    "# RANDOM LIBRARY"
   ]
  },
  {
   "cell_type": "code",
   "execution_count": 6,
   "metadata": {},
   "outputs": [
    {
     "name": "stdout",
     "output_type": "stream",
     "text": [
      "[[[0.10605347 0.30144348 0.97869204]\n",
      "  [0.59740176 0.71049044 0.24873556]\n",
      "  [0.74797307 0.98090601 0.13543013]]\n",
      "\n",
      " [[0.47703303 0.1820412  0.28367469]\n",
      "  [0.09152338 0.15215493 0.67710473]\n",
      "  [0.96705447 0.36374631 0.89851474]]\n",
      "\n",
      " [[0.67057277 0.92706633 0.54516062]\n",
      "  [0.48916811 0.4978093  0.02401742]\n",
      "  [0.51273073 0.26793276 0.22317004]]]\n"
     ]
    }
   ],
   "source": [
    "arr1 = np.random.random((3,3,3)) # This will create 3x3 array with random values\n",
    "print(arr1)"
   ]
  },
  {
   "cell_type": "code",
   "execution_count": 7,
   "metadata": {},
   "outputs": [
    {
     "name": "stdout",
     "output_type": "stream",
     "text": [
      "[[ 7  2  3]\n",
      " [ 8  8  7]\n",
      " [ 1  7 10]]\n"
     ]
    }
   ],
   "source": [
    "arr2 = np.random.randint(0,11,(3,3)) #This will generate random integer between 0 to 10\n",
    "print(arr2)"
   ]
  },
  {
   "cell_type": "code",
   "execution_count": 8,
   "metadata": {},
   "outputs": [
    {
     "name": "stdout",
     "output_type": "stream",
     "text": [
      "[[ 0.06398001  0.83476644 -1.85744058]\n",
      " [ 1.21354526 -0.08707821 -0.04983609]\n",
      " [ 0.64581126  0.86347907  1.49296993]]\n"
     ]
    }
   ],
   "source": [
    "arr3 = np.random.randn(3,3) # This is standard normal distribution\n",
    "print(arr3)"
   ]
  },
  {
   "cell_type": "code",
   "execution_count": 9,
   "metadata": {},
   "outputs": [
    {
     "name": "stdout",
     "output_type": "stream",
     "text": [
      "[[-0.22162291 -1.05429484 -0.55742331]\n",
      " [ 0.14425433  0.34414587  1.92440705]\n",
      " [ 1.85470632  0.91756338 -0.56463929]]\n"
     ]
    }
   ],
   "source": [
    "arr4 = np.random.normal(0,1,(3,3)) # This is normal distribution\n",
    "print(arr4)"
   ]
  },
  {
   "cell_type": "code",
   "execution_count": 10,
   "metadata": {},
   "outputs": [
    {
     "name": "stdout",
     "output_type": "stream",
     "text": [
      "[[0.72400242 0.01866207 0.25363408]\n",
      " [0.01484304 0.18195139 0.26163482]\n",
      " [0.56290214 0.61796373 0.52793784]]\n"
     ]
    }
   ],
   "source": [
    "arr5 = np.random.uniform(0,1,(3,3)) # This is uniform distribution\n",
    "print(arr5)"
   ]
  },
  {
   "cell_type": "code",
   "execution_count": 11,
   "metadata": {},
   "outputs": [
    {
     "name": "stdout",
     "output_type": "stream",
     "text": [
      "[[5 3 4]\n",
      " [3 2 5]\n",
      " [7 8 4]]\n"
     ]
    }
   ],
   "source": [
    "arr6 = np.random.choice([1,2,3,4,5,6,7,8,9],(3,3)) # This will generate random number from the list\n",
    "print(arr6)"
   ]
  },
  {
   "cell_type": "code",
   "execution_count": 12,
   "metadata": {},
   "outputs": [
    {
     "name": "stdout",
     "output_type": "stream",
     "text": [
      "[6 8 4 5 3 2 7 9 1]\n"
     ]
    }
   ],
   "source": [
    "arr7 = np.random.permutation([1,2,3,4,5,6,7,8,9]) # This will generate random permutation from the list\n",
    "print(arr7)"
   ]
  },
  {
   "cell_type": "markdown",
   "metadata": {},
   "source": [
    "# SEQUENCE"
   ]
  },
  {
   "cell_type": "code",
   "execution_count": 13,
   "metadata": {},
   "outputs": [
    {
     "name": "stdout",
     "output_type": "stream",
     "text": [
      "[ 0  1  2  3  4  5  6  7  8  9 10 11]\n"
     ]
    }
   ],
   "source": [
    "arr8 = np.arange(0,12) # This will generate array sequence from 0 to 10\n",
    "print(arr8)"
   ]
  },
  {
   "cell_type": "code",
   "execution_count": 14,
   "metadata": {},
   "outputs": [
    {
     "name": "stdout",
     "output_type": "stream",
     "text": [
      "[ 0.    1.25  2.5   3.75  5.    6.25  7.5   8.75 10.  ]\n"
     ]
    }
   ],
   "source": [
    "arr9 = np.linspace(0,10,9) # This will generate array sequence from 0 to 10 with 5 elements and equidistant\n",
    "print(arr9)"
   ]
  },
  {
   "cell_type": "code",
   "execution_count": 15,
   "metadata": {},
   "outputs": [
    {
     "name": "stdout",
     "output_type": "stream",
     "text": [
      "[[1. 0. 0.]\n",
      " [0. 1. 0.]\n",
      " [0. 0. 1.]]\n"
     ]
    }
   ],
   "source": [
    "arr10 = np.eye(3) # This will generate identity matrix\n",
    "print(arr10)"
   ]
  },
  {
   "cell_type": "code",
   "execution_count": 16,
   "metadata": {},
   "outputs": [
    {
     "name": "stdout",
     "output_type": "stream",
     "text": [
      "[[0.058251   0.04177966 0.90716564 0.02497727 0.95768573 0.99150302]\n",
      " [0.09452272 0.1216962  0.88715212 0.46289212 0.06504095 0.54214132]]\n"
     ]
    }
   ],
   "source": [
    "arr11 = np.random.random((3,4)) # This will generate 3x4 array with random values\n",
    "arr11 = np.reshape(arr11 , (2,6)) # This will reshape the array\n",
    "print(arr11)"
   ]
  },
  {
   "cell_type": "code",
   "execution_count": 17,
   "metadata": {},
   "outputs": [
    {
     "name": "stdout",
     "output_type": "stream",
     "text": [
      "[[0.058251   0.04177966 0.90716564 0.02497727 0.95768573 0.99150302]\n",
      " [0.09452272 0.1216962  0.88715212 0.46289212 0.06504095 0.54214132]]\n",
      "--------------------\n",
      "[0.058251   0.04177966 0.90716564 0.02497727 0.95768573 0.99150302\n",
      " 0.09452272 0.1216962  0.88715212 0.46289212 0.06504095 0.54214132]\n"
     ]
    }
   ],
   "source": [
    "print(arr11) #this is a 2D array\n",
    "arr11 = arr11.flatten() # This will flatten the array\n",
    "print('-'*20)\n",
    "print(arr11) # This is a 1D array"
   ]
  },
  {
   "cell_type": "code",
   "execution_count": 18,
   "metadata": {},
   "outputs": [
    {
     "name": "stdout",
     "output_type": "stream",
     "text": [
      "[[ 0  1  2  3]\n",
      " [ 4  5  6  7]\n",
      " [ 8  9 10 11]\n",
      " [12 13 14 15]\n",
      " [16 17 18 19]]\n"
     ]
    }
   ],
   "source": [
    "arr12 = np.arange(20).reshape(5,4) # This will generate 5x4 array\n",
    "print(arr12)"
   ]
  },
  {
   "cell_type": "markdown",
   "metadata": {},
   "source": [
    "# Arithematics Operations"
   ]
  },
  {
   "cell_type": "code",
   "execution_count": 19,
   "metadata": {},
   "outputs": [
    {
     "name": "stdout",
     "output_type": "stream",
     "text": [
      "[ 1  2  3  4  5  6  7  8  9 10]\n",
      "[ 2  3  4  5  6  7  8  9 10 11]\n",
      "[0 1 2 3 4 5 6 7 8 9]\n",
      "[ 4  6  8 10 12 14 16 18 20 22]\n"
     ]
    }
   ],
   "source": [
    "ar = np.array([1,2,3,4,5,6,7,8,9,10]) # 1D array\n",
    "print(ar)\n",
    "\n",
    "ar = ar+1\n",
    "ar1 = ar-2\n",
    "ar2 = ar*2\n",
    "\n",
    "print(ar)\n",
    "print(ar1)\n",
    "print(ar2)\n"
   ]
  },
  {
   "cell_type": "code",
   "execution_count": 20,
   "metadata": {},
   "outputs": [
    {
     "name": "stdout",
     "output_type": "stream",
     "text": [
      "[[1 2 3]\n",
      " [4 5 6]\n",
      " [7 8 9]]\n",
      "--------------------\n",
      "45\n",
      "[12 15 18]\n",
      "[ 6 15 24]\n",
      "--------------------\n",
      "[3 6 9]\n",
      "[7 8 9]\n",
      "--------------------\n",
      "[1 4 7]\n",
      "[1 2 3]\n"
     ]
    }
   ],
   "source": [
    "print(arr) # This is 2D array\n",
    "print('-'*20)\n",
    "print(arr.sum())\n",
    "print(arr.sum(axis=0)) # This will sum the column\n",
    "print(arr.sum(axis=1)) # This will sum the row\n",
    "print('-'*20)\n",
    "print(arr.max(axis=1))\n",
    "print(arr.max(axis=0))\n",
    "print('-'*20)\n",
    "print(arr.min(axis=1))\n",
    "print(arr.min(axis=0))"
   ]
  },
  {
   "cell_type": "code",
   "execution_count": 21,
   "metadata": {},
   "outputs": [
    {
     "data": {
      "text/plain": [
       "array([[ 4,  5,  6],\n",
       "       [ 7,  8,  9],\n",
       "       [10, 11, 12]])"
      ]
     },
     "execution_count": 21,
     "metadata": {},
     "output_type": "execute_result"
    }
   ],
   "source": [
    "Z = np.arange(4, 13).reshape(3,3)\n",
    "Z"
   ]
  },
  {
   "cell_type": "code",
   "execution_count": 22,
   "metadata": {},
   "outputs": [
    {
     "name": "stdout",
     "output_type": "stream",
     "text": [
      "[[ 5  7  9]\n",
      " [11 13 15]\n",
      " [17 19 21]]\n"
     ]
    }
   ],
   "source": [
    "print(arr + Z) # Addition of two array"
   ]
  },
  {
   "cell_type": "code",
   "execution_count": 23,
   "metadata": {},
   "outputs": [
    {
     "name": "stdout",
     "output_type": "stream",
     "text": [
      "[[ 1  2  3  4]\n",
      " [ 5  6  7  8]\n",
      " [ 9 10 11 12]]\n"
     ]
    }
   ],
   "source": [
    "X = np.arange(1,13).reshape(3,4)\n",
    "print(X)"
   ]
  },
  {
   "cell_type": "code",
   "execution_count": 24,
   "metadata": {},
   "outputs": [
    {
     "ename": "ValueError",
     "evalue": "operands could not be broadcast together with shapes (3,4) (3,3) ",
     "output_type": "error",
     "traceback": [
      "\u001b[1;31m---------------------------------------------------------------------------\u001b[0m",
      "\u001b[1;31mValueError\u001b[0m                                Traceback (most recent call last)",
      "Cell \u001b[1;32mIn[24], line 1\u001b[0m\n\u001b[1;32m----> 1\u001b[0m \u001b[38;5;28mprint\u001b[39m(\u001b[43mX\u001b[49m\u001b[38;5;241;43m+\u001b[39;49m\u001b[43mZ\u001b[49m) \u001b[38;5;66;03m# This will give error because of shape mismatch\u001b[39;00m\n",
      "\u001b[1;31mValueError\u001b[0m: operands could not be broadcast together with shapes (3,4) (3,3) "
     ]
    }
   ],
   "source": [
    "print(X+Z) # This will give error because of shape mismatch"
   ]
  },
  {
   "cell_type": "code",
   "execution_count": null,
   "metadata": {},
   "outputs": [
    {
     "data": {
      "text/plain": [
       "array([[ 48,  54,  60],\n",
       "       [111, 126, 141],\n",
       "       [174, 198, 222]])"
      ]
     },
     "execution_count": 84,
     "metadata": {},
     "output_type": "execute_result"
    }
   ],
   "source": [
    "arr.dot(Z)"
   ]
  },
  {
   "cell_type": "code",
   "execution_count": null,
   "metadata": {},
   "outputs": [
    {
     "name": "stdout",
     "output_type": "stream",
     "text": [
      "[[1 2 3]\n",
      " [4 5 6]\n",
      " [7 8 9]]\n",
      "--------------------\n",
      "[[1 4 7]\n",
      " [2 5 8]\n",
      " [3 6 9]]\n"
     ]
    }
   ],
   "source": [
    "trans = arr.T # This will transpose the array matrix\n",
    "print(arr)\n",
    "print('-'*20)\n",
    "print(trans)"
   ]
  },
  {
   "cell_type": "markdown",
   "metadata": {},
   "source": [
    "# Indexing"
   ]
  },
  {
   "cell_type": "code",
   "execution_count": null,
   "metadata": {},
   "outputs": [
    {
     "name": "stdout",
     "output_type": "stream",
     "text": [
      "[1, 2, 3, 4, 5, 6, 7, 8, 9, 10]\n"
     ]
    }
   ],
   "source": [
    "lst = [1,2,3,4,5,6,7,8,9,10]\n",
    "print(lst)"
   ]
  },
  {
   "cell_type": "code",
   "execution_count": null,
   "metadata": {},
   "outputs": [
    {
     "data": {
      "text/plain": [
       "[10, 9, 8, 7, 6, 5, 4, 3, 2, 1]"
      ]
     },
     "execution_count": 93,
     "metadata": {},
     "output_type": "execute_result"
    }
   ],
   "source": [
    "lst[::-1] # This will reverse the list"
   ]
  },
  {
   "cell_type": "code",
   "execution_count": null,
   "metadata": {},
   "outputs": [
    {
     "data": {
      "text/plain": [
       "[1, 3, 5, 7, 9]"
      ]
     },
     "execution_count": 94,
     "metadata": {},
     "output_type": "execute_result"
    }
   ],
   "source": [
    "lst[::2] # This will print alternate element from the list"
   ]
  },
  {
   "cell_type": "code",
   "execution_count": null,
   "metadata": {},
   "outputs": [
    {
     "data": {
      "text/plain": [
       "[2, 4, 6, 8, 10]"
      ]
     },
     "execution_count": 96,
     "metadata": {},
     "output_type": "execute_result"
    }
   ],
   "source": [
    "lst[1::2] # first part is starting index and second part is ending index ...here means ending and then last part is step size"
   ]
  },
  {
   "cell_type": "code",
   "execution_count": null,
   "metadata": {},
   "outputs": [],
   "source": []
  },
  {
   "cell_type": "markdown",
   "metadata": {},
   "source": [
    "# Sorting\n"
   ]
  },
  {
   "cell_type": "code",
   "execution_count": null,
   "metadata": {},
   "outputs": [
    {
     "name": "stdout",
     "output_type": "stream",
     "text": [
      "[[  4   7   1   5]\n",
      " [  0   8   9   1]\n",
      " [ 11  78 112  34]\n",
      " [  9  90  76   2]]\n"
     ]
    },
    {
     "data": {
      "text/plain": [
       "array([[  1,   4,   5,   7],\n",
       "       [  0,   1,   8,   9],\n",
       "       [ 11,  34,  78, 112],\n",
       "       [  2,   9,  76,  90]])"
      ]
     },
     "execution_count": 111,
     "metadata": {},
     "output_type": "execute_result"
    }
   ],
   "source": [
    "a = np.array([[4,7,1,5] , [0,8,9,1] , [11,78,112,34] , [9,90,76,2]])\n",
    "print(a)\n",
    "a.T\n",
    "# np.sort(a, axis=0 , kind='quicksort') # This will sort the array column wise\n",
    "np.sort(a, axis=1 , kind='mergesort')   # This will sort the array row wise"
   ]
  },
  {
   "cell_type": "code",
   "execution_count": null,
   "metadata": {},
   "outputs": [
    {
     "name": "stdout",
     "output_type": "stream",
     "text": [
      "[10  2  2  9  6  1  9  2 10 11]\n",
      "[1, 2, 2, 2, 6, 9, 9, 10, 10, 11]\n",
      "[ 1  2  2  2  6  9  9 10 10 11]\n"
     ]
    }
   ],
   "source": [
    "ar[3]=9\n",
    "ar[5]=1\n",
    "ar[0]=10\n",
    "ar[7]=2\n",
    "print(ar)\n",
    "ar.sort() # makes the original array sorted\n",
    "s = sorted(ar) # This will not change the original array\n",
    "print(s)\n",
    "print(ar)"
   ]
  },
  {
   "cell_type": "markdown",
   "metadata": {},
   "source": [
    "# Merging"
   ]
  },
  {
   "cell_type": "code",
   "execution_count": null,
   "metadata": {},
   "outputs": [],
   "source": [
    "fd = np.array([[1,2,3] ,[4,5,6]])\n",
    "fd1 = np.array([[7,8,9] ,[10,11,12]])"
   ]
  },
  {
   "cell_type": "code",
   "execution_count": null,
   "metadata": {},
   "outputs": [
    {
     "data": {
      "text/plain": [
       "array([[ 1,  2,  3,  7,  8,  9],\n",
       "       [ 4,  5,  6, 10, 11, 12]])"
      ]
     },
     "execution_count": 128,
     "metadata": {},
     "output_type": "execute_result"
    }
   ],
   "source": [
    "np.hstack((fd,fd1)) # This will concatenate the array horizontally"
   ]
  },
  {
   "cell_type": "code",
   "execution_count": null,
   "metadata": {},
   "outputs": [
    {
     "data": {
      "text/plain": [
       "array([[ 1,  2,  3],\n",
       "       [ 4,  5,  6],\n",
       "       [ 7,  8,  9],\n",
       "       [10, 11, 12]])"
      ]
     },
     "execution_count": 129,
     "metadata": {},
     "output_type": "execute_result"
    }
   ],
   "source": [
    "np.vstack((fd,fd1)) # This will concatenate the array vertically"
   ]
  },
  {
   "cell_type": "code",
   "execution_count": null,
   "metadata": {},
   "outputs": [
    {
     "name": "stdout",
     "output_type": "stream",
     "text": [
      "[[ 1  2  3  4]\n",
      " [ 4  5  6  5]\n",
      " [ 7  8  9  9]\n",
      " [10 11 12 10]]\n"
     ]
    }
   ],
   "source": [
    "ar = np.concatenate((fd,fd1) , axis=0) # This will concatenate the array vertically\n",
    "df = np.array([4,5,9,10]).reshape(4,1)\n",
    "ar = np.hstack((ar,df))\n",
    "# print(df)\n",
    "print(ar)"
   ]
  },
  {
   "cell_type": "code",
   "execution_count": null,
   "metadata": {},
   "outputs": [
    {
     "data": {
      "text/plain": [
       "array([[ 1,  2,  3,  7,  8,  9],\n",
       "       [ 4,  5,  6, 10, 11, 12]])"
      ]
     },
     "execution_count": 131,
     "metadata": {},
     "output_type": "execute_result"
    }
   ],
   "source": [
    "np.concatenate((fd,fd1) , axis=1) # This will concatenate the array horizontally"
   ]
  },
  {
   "cell_type": "code",
   "execution_count": null,
   "metadata": {},
   "outputs": [
    {
     "data": {
      "text/plain": [
       "[array([[ 1,  2],\n",
       "        [ 4,  5],\n",
       "        [ 7,  8],\n",
       "        [10, 11]]),\n",
       " array([[ 3,  4],\n",
       "        [ 6,  5],\n",
       "        [ 9,  9],\n",
       "        [12, 10]])]"
      ]
     },
     "execution_count": 138,
     "metadata": {},
     "output_type": "execute_result"
    }
   ],
   "source": [
    "np.hsplit(ar,2) # This will split the array horizontally\n"
   ]
  },
  {
   "cell_type": "code",
   "execution_count": null,
   "metadata": {},
   "outputs": [
    {
     "data": {
      "text/plain": [
       "[array([[1, 2, 3, 4],\n",
       "        [4, 5, 6, 5]]),\n",
       " array([[ 7,  8,  9,  9],\n",
       "        [10, 11, 12, 10]])]"
      ]
     },
     "execution_count": 139,
     "metadata": {},
     "output_type": "execute_result"
    }
   ],
   "source": [
    "np.vsplit(ar,2) # This will split the array vertically"
   ]
  },
  {
   "cell_type": "markdown",
   "metadata": {},
   "source": [
    "# Arrays Slicing"
   ]
  },
  {
   "cell_type": "code",
   "execution_count": null,
   "metadata": {},
   "outputs": [
    {
     "name": "stdout",
     "output_type": "stream",
     "text": [
      "[[ 1  2  3  4]\n",
      " [ 4  5  6  5]\n",
      " [ 7  8  9  9]\n",
      " [10 11 12 10]]\n"
     ]
    }
   ],
   "source": [
    "print(ar)"
   ]
  },
  {
   "cell_type": "code",
   "execution_count": null,
   "metadata": {},
   "outputs": [
    {
     "data": {
      "text/plain": [
       "array([[ 1,  2,  3,  4],\n",
       "       [ 4,  5,  6,  5],\n",
       "       [ 7,  8,  9,  9],\n",
       "       [10, 11, 12, 10]])"
      ]
     },
     "execution_count": 143,
     "metadata": {},
     "output_type": "execute_result"
    }
   ],
   "source": [
    "ar[:,:] # , is used to separate between rows and columns"
   ]
  },
  {
   "cell_type": "code",
   "execution_count": null,
   "metadata": {},
   "outputs": [
    {
     "data": {
      "text/plain": [
       "array([[ 9,  9],\n",
       "       [12, 10]])"
      ]
     },
     "execution_count": 151,
     "metadata": {},
     "output_type": "execute_result"
    }
   ],
   "source": [
    "ar[2:,-2:]"
   ]
  },
  {
   "cell_type": "code",
   "execution_count": null,
   "metadata": {},
   "outputs": [],
   "source": [
    "# Code to convert to HTML\n",
    "# jupyter nbconvert --to html Data\\ Science/Data\\ Analytics/Numpy/file.ipynb\n"
   ]
  },
  {
   "cell_type": "markdown",
   "metadata": {},
   "source": [
    "# Automation"
   ]
  },
  {
   "cell_type": "code",
   "execution_count": null,
   "metadata": {},
   "outputs": [
    {
     "name": "stdout",
     "output_type": "stream",
     "text": [
      "[[ 1  2  3  4  5  6  7  8  9 10]\n",
      " [20 30 40 50 60  9  8  7  6  5]]\n"
     ]
    }
   ],
   "source": [
    "import numpy as np\n",
    "\n",
    "ar1 = np.array([[1,2,3,4,5] , [20,30,40,50,60]])\n",
    "ar2 = np.array([[6,7,8,9,10] , [9,8,7,6,5]])\n",
    "\n",
    "ar1 = np.column_stack((ar1,ar2)) # This will stack the array column wise\n",
    "# ar = np.row_stack((ar1,ar2)) # This will stack the array row wise\n",
    "print(ar1)\n",
    "# print(ar)"
   ]
  },
  {
   "cell_type": "code",
   "execution_count": null,
   "metadata": {},
   "outputs": [
    {
     "name": "stdout",
     "output_type": "stream",
     "text": [
      "[3 6 9]\n",
      "3\n"
     ]
    }
   ],
   "source": [
    "lst = np.array([1,2,3,4,5,6,7,8,9,10])\n",
    "mk = lst>1\n",
    "mk2 = lst%3==0\n",
    "print(lst[mk&mk2])\n",
    "print(len(lst[mk&mk2]))"
   ]
  },
  {
   "cell_type": "code",
   "execution_count": null,
   "metadata": {},
   "outputs": [],
   "source": []
  },
  {
   "cell_type": "markdown",
   "metadata": {},
   "source": [
    "# EXTRAS"
   ]
  },
  {
   "cell_type": "code",
   "execution_count": null,
   "metadata": {},
   "outputs": [
    {
     "data": {
      "text/plain": [
       "array([20, 31, 17, 28, 70, 32, 42, 12, 24, 49])"
      ]
     },
     "execution_count": 4,
     "metadata": {},
     "output_type": "execute_result"
    }
   ],
   "source": [
    "import numpy as np\n",
    "\n",
    "arr = np.random.randint(1,100 ,10 )\n",
    "arr"
   ]
  },
  {
   "cell_type": "code",
   "execution_count": null,
   "metadata": {},
   "outputs": [
    {
     "name": "stdout",
     "output_type": "stream",
     "text": [
      "['even' '31' '17' 'even' 'even' 'even' 'even' 'even' 'even' '49']\n",
      "['20' 'odd' 'odd' '28' '70' '32' '42' '12' '24' 'odd']\n"
     ]
    }
   ],
   "source": [
    "ar = np.where(arr%2==0 , 'even' , arr)\n",
    "ar1 = np.where(arr&1 , 'odd' , arr)\n",
    "print(ar)\n",
    "print(ar1)"
   ]
  },
  {
   "cell_type": "code",
   "execution_count": null,
   "metadata": {},
   "outputs": [],
   "source": []
  },
  {
   "cell_type": "markdown",
   "metadata": {},
   "source": [
    "## Turn the pictures into array"
   ]
  },
  {
   "cell_type": "code",
   "execution_count": null,
   "metadata": {},
   "outputs": [
    {
     "name": "stdout",
     "output_type": "stream",
     "text": [
      "This is pixel size 2400\n",
      "This is width size 1080\n",
      "This is channel for eye icon  3\n",
      "255\n",
      "0\n"
     ]
    }
   ],
   "source": [
    "from matplotlib.image import imread\n",
    "# <img src='photo.jpg'>\n",
    "\n",
    "img=imread('photo.jpg')\n",
    "# print(img)  \n",
    "print(\"This is pixel size\" ,(img.shape)[0])\n",
    "print(\"This is width size\" ,(img.shape)[1])\n",
    "print(\"This is channel for eye icon \" ,(img.shape)[2])\n",
    "print(np.max(img))\n",
    "print(np.min(img))"
   ]
  },
  {
   "cell_type": "code",
   "execution_count": null,
   "metadata": {},
   "outputs": [
    {
     "data": {
      "text/plain": [
       "(array([1.00000e+00, 0.00000e+00, 0.00000e+00, 0.00000e+00, 1.00000e+00,\n",
       "        2.00000e+00, 0.00000e+00, 0.00000e+00, 0.00000e+00, 0.00000e+00,\n",
       "        0.00000e+00, 1.00000e+00, 0.00000e+00, 1.00000e+00, 0.00000e+00,\n",
       "        0.00000e+00, 2.00000e+00, 0.00000e+00, 2.00000e+00, 0.00000e+00,\n",
       "        1.00000e+00, 4.00000e+00, 0.00000e+00, 2.00000e+00, 0.00000e+00,\n",
       "        1.00000e+00, 2.00000e+00, 2.00000e+00, 0.00000e+00, 2.00000e+00,\n",
       "        0.00000e+00, 1.00000e+00, 0.00000e+00, 0.00000e+00, 0.00000e+00,\n",
       "        2.00000e+00, 3.00000e+00, 2.00000e+00, 2.00000e+00, 3.00000e+00,\n",
       "        2.00000e+00, 3.00000e+00, 2.00000e+00, 3.00000e+00, 1.00000e+00,\n",
       "        6.00000e+00, 2.00000e+00, 4.00000e+00, 1.00000e+00, 3.00000e+00,\n",
       "        5.00000e+00, 3.00000e+00, 6.00000e+00, 1.10000e+01, 2.00000e+00,\n",
       "        3.00000e+00, 4.00000e+00, 4.00000e+00, 1.00000e+00, 5.00000e+00,\n",
       "        7.00000e+00, 5.00000e+00, 7.00000e+00, 4.00000e+00, 1.60000e+01,\n",
       "        1.30000e+01, 1.10000e+01, 1.30000e+01, 1.20000e+01, 7.00000e+00,\n",
       "        2.20000e+01, 1.60000e+01, 1.50000e+01, 1.50000e+01, 1.90000e+01,\n",
       "        1.60000e+01, 1.60000e+01, 1.60000e+01, 2.20000e+01, 1.60000e+01,\n",
       "        1.40000e+01, 1.60000e+01, 2.20000e+01, 6.00000e+00, 2.10000e+01,\n",
       "        2.50000e+01, 2.00000e+01, 2.80000e+01, 2.90000e+01, 3.10000e+01,\n",
       "        2.90000e+01, 3.50000e+01, 3.70000e+01, 4.00000e+01, 3.00000e+01,\n",
       "        3.40000e+01, 3.60000e+01, 5.00000e+01, 4.10000e+01, 5.50000e+01,\n",
       "        6.00000e+01, 5.40000e+01, 6.80000e+01, 6.30000e+01, 6.50000e+01,\n",
       "        7.00000e+01, 6.40000e+01, 7.30000e+01, 7.50000e+01, 8.00000e+01,\n",
       "        8.90000e+01, 7.40000e+01, 6.60000e+01, 9.10000e+01, 9.10000e+01,\n",
       "        1.19000e+02, 9.50000e+01, 1.18000e+02, 1.05000e+02, 1.49000e+02,\n",
       "        1.30000e+02, 1.27000e+02, 1.45000e+02, 1.70000e+02, 1.72000e+02,\n",
       "        1.86000e+02, 1.55000e+02, 1.80000e+02, 1.87000e+02, 1.88000e+02,\n",
       "        2.02000e+02, 2.08000e+02, 2.25000e+02, 2.48000e+02, 2.31000e+02,\n",
       "        2.61000e+02, 2.67000e+02, 2.35000e+02, 2.66000e+02, 2.72000e+02,\n",
       "        3.03000e+02, 3.24000e+02, 2.83000e+02, 3.24000e+02, 3.50000e+02,\n",
       "        3.84000e+02, 3.71000e+02, 3.90000e+02, 3.96000e+02, 4.50000e+02,\n",
       "        4.63000e+02, 4.97000e+02, 5.05000e+02, 5.28000e+02, 5.33000e+02,\n",
       "        5.90000e+02, 6.21000e+02, 5.55000e+02, 6.39000e+02, 6.84000e+02,\n",
       "        6.78000e+02, 7.35000e+02, 7.66000e+02, 7.93000e+02, 8.33000e+02,\n",
       "        7.98000e+02, 9.09000e+02, 9.16000e+02, 9.05000e+02, 9.87000e+02,\n",
       "        1.01700e+03, 1.03600e+03, 1.11800e+03, 1.16300e+03, 1.22000e+03,\n",
       "        1.21600e+03, 1.26300e+03, 1.36400e+03, 1.33100e+03, 1.45800e+03,\n",
       "        1.52100e+03, 1.50900e+03, 1.60800e+03, 1.60100e+03, 1.71700e+03,\n",
       "        1.83200e+03, 1.86000e+03, 1.87800e+03, 1.94400e+03, 2.08300e+03,\n",
       "        2.21200e+03, 2.23800e+03, 2.30000e+03, 2.45900e+03, 2.39600e+03,\n",
       "        2.54500e+03, 2.68400e+03, 2.84500e+03, 2.92100e+03, 2.90300e+03,\n",
       "        3.03300e+03, 3.13900e+03, 3.23600e+03, 3.32900e+03, 3.38600e+03,\n",
       "        3.54300e+03, 3.79000e+03, 3.94300e+03, 3.93000e+03, 4.15500e+03,\n",
       "        4.40800e+03, 4.49800e+03, 4.62400e+03, 4.70700e+03, 4.90500e+03,\n",
       "        5.15000e+03, 5.19600e+03, 5.56500e+03, 5.70800e+03, 5.91200e+03,\n",
       "        6.02800e+03, 6.29800e+03, 6.36600e+03, 6.62700e+03, 6.97100e+03,\n",
       "        7.23000e+03, 7.43000e+03, 7.57300e+03, 7.84100e+03, 8.07100e+03,\n",
       "        8.28000e+03, 8.61600e+03, 8.83800e+03, 8.99300e+03, 9.45600e+03,\n",
       "        9.68300e+03, 1.02510e+04, 1.03070e+04, 1.05080e+04, 1.09500e+04,\n",
       "        1.11450e+04, 1.15590e+04, 1.18960e+04, 1.22040e+04, 1.27690e+04,\n",
       "        1.31530e+04, 1.33250e+04, 1.39340e+04, 1.43490e+04, 1.46860e+04,\n",
       "        1.51330e+04, 1.54790e+04, 1.63480e+04, 1.65970e+04, 1.68500e+04,\n",
       "        1.72410e+04, 1.79360e+04, 1.84500e+04, 1.90160e+04, 1.92960e+04,\n",
       "        2.00130e+04, 2.07280e+04, 2.11690e+04, 2.18900e+04, 2.23100e+04,\n",
       "        2.27950e+04, 2.35380e+04, 2.41360e+04, 2.50670e+04, 2.56770e+04,\n",
       "        2.61980e+04, 2.70260e+04, 2.78160e+04, 2.80500e+04, 2.89600e+04,\n",
       "        2.97810e+04, 3.03740e+04, 3.13390e+04, 3.21110e+04, 3.32960e+04,\n",
       "        3.37940e+04, 3.47680e+04, 3.56410e+04, 3.66640e+04, 3.74460e+04,\n",
       "        3.80640e+04, 3.88920e+04, 4.03790e+04, 4.12030e+04, 4.21460e+04,\n",
       "        4.31650e+04, 4.43760e+04, 4.51060e+04, 4.66740e+04, 4.76190e+04,\n",
       "        4.85460e+04, 4.98010e+04, 5.12950e+04, 5.21480e+04, 5.34970e+04,\n",
       "        5.44670e+04, 5.56510e+04, 5.75280e+04, 5.82720e+04, 5.98410e+04,\n",
       "        6.10900e+04, 6.22780e+04, 6.37430e+04, 6.49740e+04, 6.69300e+04,\n",
       "        6.82820e+04, 6.93810e+04, 7.12040e+04, 7.27270e+04, 7.46180e+04,\n",
       "        7.59600e+04, 7.72230e+04, 7.89400e+04, 8.12970e+04, 8.26150e+04,\n",
       "        8.36180e+04, 8.58410e+04, 8.73860e+04, 8.90660e+04, 9.06470e+04,\n",
       "        9.32840e+04, 9.39800e+04, 9.65340e+04, 9.79810e+04, 9.99650e+04,\n",
       "        1.01681e+05, 1.03750e+05, 1.05952e+05, 1.07820e+05, 1.10428e+05,\n",
       "        1.11906e+05, 1.13978e+05, 1.16651e+05, 1.18430e+05, 1.20743e+05,\n",
       "        1.22893e+05, 1.24433e+05, 1.27155e+05, 1.29187e+05, 1.31095e+05,\n",
       "        1.33754e+05, 1.35760e+05, 1.37640e+05, 1.40594e+05, 1.43124e+05,\n",
       "        1.45356e+05, 1.48102e+05, 1.50320e+05, 1.52969e+05, 1.54664e+05,\n",
       "        1.57171e+05, 1.60612e+05, 1.62985e+05, 1.64886e+05, 1.67923e+05,\n",
       "        1.70435e+05, 1.73002e+05, 1.75930e+05, 1.78875e+05, 1.80953e+05,\n",
       "        1.83934e+05, 1.85948e+05, 1.88740e+05, 1.91897e+05, 1.94668e+05,\n",
       "        1.97229e+05, 2.00718e+05, 2.02668e+05, 2.06096e+05, 2.08469e+05,\n",
       "        2.11925e+05, 2.14052e+05, 2.16698e+05, 2.19994e+05, 2.22313e+05,\n",
       "        2.25547e+05, 2.28776e+05, 2.31686e+05, 2.34698e+05, 2.37021e+05,\n",
       "        2.40629e+05, 2.43612e+05, 2.46963e+05, 2.48948e+05, 2.52629e+05,\n",
       "        2.55565e+05, 2.58232e+05, 2.61104e+05, 2.63728e+05, 2.68245e+05,\n",
       "        2.70233e+05, 2.73669e+05, 2.76313e+05, 2.78366e+05, 2.82076e+05,\n",
       "        2.84258e+05, 2.88014e+05, 2.90967e+05, 2.93672e+05, 2.96335e+05,\n",
       "        2.98560e+05, 3.02394e+05, 3.04233e+05, 3.07173e+05, 3.11075e+05,\n",
       "        3.13657e+05, 3.18253e+05, 3.19690e+05, 3.22320e+05, 3.24246e+05,\n",
       "        3.27644e+05, 3.30185e+05, 3.34668e+05, 3.37339e+05, 3.39429e+05,\n",
       "        3.41881e+05, 3.44769e+05, 3.46625e+05, 3.50928e+05, 3.52970e+05,\n",
       "        3.55053e+05, 3.58092e+05, 3.60776e+05, 3.62363e+05, 3.64744e+05,\n",
       "        3.68149e+05, 3.70291e+05, 3.72287e+05, 3.75425e+05, 3.76675e+05,\n",
       "        3.79545e+05, 3.82176e+05, 3.84558e+05, 3.86303e+05, 3.87363e+05,\n",
       "        3.90827e+05, 3.93118e+05, 3.96006e+05, 3.96035e+05, 3.99805e+05,\n",
       "        4.02037e+05, 4.02257e+05, 4.04543e+05, 4.07503e+05, 4.07421e+05,\n",
       "        4.10154e+05, 4.12242e+05, 4.15211e+05, 4.16340e+05, 4.16973e+05,\n",
       "        4.18779e+05, 4.20887e+05, 4.22035e+05, 4.22320e+05, 4.24312e+05,\n",
       "        4.24874e+05, 4.26084e+05, 4.28300e+05, 4.29602e+05, 4.29642e+05,\n",
       "        4.30948e+05, 4.32234e+05, 4.31506e+05, 4.34309e+05, 4.34554e+05,\n",
       "        4.34833e+05, 4.36889e+05, 4.36939e+05, 4.38255e+05, 4.39349e+05,\n",
       "        4.39324e+05, 4.38570e+05, 4.39641e+05, 4.41214e+05, 4.41021e+05,\n",
       "        4.40516e+05, 4.39581e+05, 4.41287e+05, 4.42462e+05, 4.40933e+05,\n",
       "        4.42547e+05, 4.41484e+05, 4.41849e+05, 4.40363e+05, 4.41330e+05,\n",
       "        4.40602e+05, 4.42078e+05, 4.39909e+05, 4.39678e+05, 4.40408e+05,\n",
       "        4.38457e+05, 4.38219e+05, 4.38126e+05, 4.37108e+05, 4.36088e+05,\n",
       "        4.35049e+05, 4.36094e+05, 4.33414e+05, 4.32283e+05, 4.32187e+05,\n",
       "        4.29784e+05, 4.29269e+05, 4.28702e+05, 4.26386e+05, 4.25938e+05,\n",
       "        4.24514e+05, 4.22861e+05, 4.22901e+05, 4.20978e+05, 4.19141e+05,\n",
       "        4.17342e+05, 4.15684e+05, 4.15159e+05, 4.13324e+05, 4.11120e+05,\n",
       "        4.09837e+05, 4.06448e+05, 4.05076e+05, 4.03256e+05, 4.01423e+05,\n",
       "        3.99616e+05, 3.98664e+05, 3.96090e+05, 3.92683e+05, 3.92453e+05,\n",
       "        3.89194e+05, 3.88134e+05, 3.85958e+05, 3.82792e+05, 3.81760e+05,\n",
       "        3.79200e+05, 3.75578e+05, 3.75112e+05, 3.70986e+05, 3.69529e+05,\n",
       "        3.66376e+05, 3.63220e+05, 3.60027e+05, 3.58630e+05, 3.55198e+05,\n",
       "        3.53822e+05, 3.50265e+05, 3.47564e+05, 3.45279e+05, 3.42862e+05,\n",
       "        3.40475e+05, 3.37816e+05, 3.34260e+05, 3.31534e+05, 3.28948e+05,\n",
       "        3.25701e+05, 3.24298e+05, 3.20123e+05, 3.18051e+05, 3.14026e+05,\n",
       "        3.12919e+05, 3.09768e+05, 3.05366e+05, 3.03576e+05, 3.00561e+05,\n",
       "        2.97599e+05, 2.93719e+05, 2.91762e+05, 2.87973e+05, 2.85962e+05,\n",
       "        2.82654e+05, 2.79414e+05, 2.76201e+05, 2.73356e+05, 2.70949e+05,\n",
       "        2.67709e+05, 2.65082e+05, 2.61729e+05, 2.58423e+05, 2.56052e+05,\n",
       "        2.52852e+05, 2.50135e+05, 2.48021e+05, 2.43800e+05, 2.41298e+05,\n",
       "        2.37861e+05, 2.34988e+05, 2.32650e+05, 2.30254e+05, 2.26643e+05,\n",
       "        2.22855e+05, 2.20129e+05, 2.17487e+05, 2.14407e+05, 2.12083e+05,\n",
       "        2.09092e+05, 2.05919e+05, 2.03802e+05, 2.01361e+05, 1.97879e+05,\n",
       "        1.95015e+05, 1.92524e+05, 1.89624e+05, 1.87609e+05, 1.83662e+05,\n",
       "        1.82143e+05, 1.78905e+05, 1.76084e+05, 1.73937e+05, 1.71595e+05,\n",
       "        1.68538e+05, 1.66017e+05, 1.63501e+05, 1.60514e+05, 1.57874e+05,\n",
       "        1.56109e+05, 1.53391e+05, 1.50574e+05, 1.48888e+05, 1.45820e+05,\n",
       "        1.43506e+05, 1.41185e+05, 1.38931e+05, 1.36987e+05, 1.34386e+05,\n",
       "        1.32558e+05, 1.29847e+05, 1.27676e+05, 1.25246e+05, 1.23343e+05,\n",
       "        1.21008e+05, 1.18856e+05, 1.17204e+05, 1.14806e+05, 1.11924e+05,\n",
       "        1.10326e+05, 1.07981e+05, 1.06387e+05, 1.03969e+05, 1.02175e+05,\n",
       "        1.00673e+05, 9.84430e+04, 9.71460e+04, 9.54320e+04, 9.24680e+04,\n",
       "        9.11510e+04, 8.99540e+04, 8.71990e+04, 8.57730e+04, 8.47210e+04,\n",
       "        8.26960e+04, 8.13270e+04, 7.93270e+04, 7.77090e+04, 7.58810e+04,\n",
       "        7.46160e+04, 7.35120e+04, 7.12350e+04, 6.97370e+04, 6.88020e+04,\n",
       "        6.68530e+04, 6.55390e+04, 6.38440e+04, 6.25340e+04, 6.12520e+04,\n",
       "        6.00230e+04, 5.86660e+04, 5.73480e+04, 5.58760e+04, 5.44970e+04,\n",
       "        5.35040e+04, 5.24960e+04, 5.14000e+04, 5.03100e+04, 4.89290e+04,\n",
       "        4.81050e+04, 4.67970e+04, 4.59430e+04, 4.45610e+04, 4.34190e+04,\n",
       "        4.28650e+04, 4.15310e+04, 4.03900e+04, 3.98910e+04, 3.84800e+04,\n",
       "        3.84790e+04, 3.67340e+04, 3.57460e+04, 3.50890e+04, 3.39330e+04,\n",
       "        3.33550e+04, 3.25380e+04, 3.15290e+04, 3.09480e+04, 2.98310e+04,\n",
       "        2.92190e+04, 2.84070e+04, 2.79250e+04, 2.76290e+04, 2.63980e+04,\n",
       "        2.59250e+04, 2.50820e+04, 2.42120e+04, 2.38670e+04, 2.31080e+04,\n",
       "        2.24530e+04, 2.17500e+04, 2.10820e+04, 2.07350e+04, 2.03300e+04,\n",
       "        1.95540e+04, 1.91000e+04, 1.85050e+04, 1.81420e+04, 1.76790e+04,\n",
       "        1.69650e+04, 1.66230e+04, 1.60530e+04, 1.54900e+04, 1.52070e+04,\n",
       "        1.47930e+04, 1.43820e+04, 1.37700e+04, 1.37100e+04, 1.31720e+04,\n",
       "        1.28000e+04, 1.27280e+04, 1.21230e+04, 1.17470e+04, 1.14470e+04,\n",
       "        1.11720e+04, 1.05360e+04, 1.04680e+04, 1.02720e+04, 9.75400e+03,\n",
       "        9.41000e+03, 9.09300e+03, 9.04700e+03, 8.63700e+03, 8.27500e+03,\n",
       "        8.16400e+03, 7.88300e+03, 7.66000e+03, 7.41500e+03, 7.11100e+03,\n",
       "        6.94200e+03, 6.73400e+03, 6.58200e+03, 6.29400e+03, 6.26500e+03,\n",
       "        5.90000e+03, 5.80400e+03, 5.43900e+03, 5.33800e+03, 5.09900e+03,\n",
       "        4.96200e+03, 4.88500e+03, 4.72800e+03, 4.58700e+03, 4.28100e+03,\n",
       "        4.20900e+03, 4.13000e+03, 3.90200e+03, 3.75300e+03, 3.62100e+03,\n",
       "        3.63900e+03, 3.38500e+03, 3.35500e+03, 3.17500e+03, 3.09400e+03,\n",
       "        3.04000e+03, 2.85700e+03, 2.83500e+03, 2.76700e+03, 2.64800e+03,\n",
       "        2.55000e+03, 2.45400e+03, 2.37600e+03, 2.29100e+03, 2.18400e+03,\n",
       "        2.03600e+03, 2.00100e+03, 1.93100e+03, 1.90400e+03, 1.76300e+03,\n",
       "        1.78200e+03, 1.69200e+03, 1.70800e+03, 1.57500e+03, 1.52000e+03,\n",
       "        1.46700e+03, 1.37900e+03, 1.34000e+03, 1.31300e+03, 1.26000e+03,\n",
       "        1.21300e+03, 1.15500e+03, 1.06100e+03, 1.08700e+03, 1.01500e+03,\n",
       "        9.81000e+02, 9.86000e+02, 8.83000e+02, 8.72000e+02, 8.97000e+02,\n",
       "        7.92000e+02, 8.20000e+02, 7.39000e+02, 7.42000e+02, 6.77000e+02,\n",
       "        6.59000e+02, 6.46000e+02, 6.42000e+02, 6.21000e+02, 6.04000e+02,\n",
       "        5.67000e+02, 5.22000e+02, 5.29000e+02, 4.77000e+02, 4.63000e+02,\n",
       "        4.52000e+02, 4.35000e+02, 4.07000e+02, 3.79000e+02, 3.93000e+02,\n",
       "        3.92000e+02, 3.48000e+02, 3.28000e+02, 3.28000e+02, 3.16000e+02,\n",
       "        3.06000e+02, 2.83000e+02, 2.59000e+02, 2.58000e+02, 2.66000e+02,\n",
       "        2.57000e+02, 2.34000e+02, 2.32000e+02, 2.35000e+02, 1.91000e+02,\n",
       "        1.86000e+02, 1.91000e+02, 1.78000e+02, 1.56000e+02, 1.43000e+02,\n",
       "        1.62000e+02, 1.51000e+02, 1.37000e+02, 1.39000e+02, 1.36000e+02,\n",
       "        1.31000e+02, 1.24000e+02, 1.17000e+02, 1.13000e+02, 1.01000e+02,\n",
       "        9.90000e+01, 9.90000e+01, 9.50000e+01, 7.90000e+01, 8.10000e+01,\n",
       "        8.40000e+01, 8.80000e+01, 6.00000e+01, 6.90000e+01, 6.20000e+01,\n",
       "        6.70000e+01, 4.90000e+01, 6.80000e+01, 4.20000e+01, 4.50000e+01,\n",
       "        3.60000e+01, 5.40000e+01, 4.50000e+01, 4.20000e+01, 4.50000e+01,\n",
       "        3.80000e+01, 4.50000e+01, 4.20000e+01, 4.10000e+01, 2.70000e+01,\n",
       "        1.80000e+01, 2.80000e+01, 3.30000e+01, 2.70000e+01, 2.90000e+01,\n",
       "        1.90000e+01, 2.80000e+01, 2.50000e+01, 1.90000e+01, 2.80000e+01,\n",
       "        1.10000e+01, 1.90000e+01, 1.50000e+01, 1.90000e+01, 1.60000e+01,\n",
       "        1.80000e+01, 1.40000e+01, 1.30000e+01, 8.00000e+00, 1.90000e+01,\n",
       "        1.10000e+01, 9.00000e+00, 7.00000e+00, 1.10000e+01, 9.00000e+00,\n",
       "        7.00000e+00, 1.00000e+01, 6.00000e+00, 1.00000e+00, 3.00000e+00,\n",
       "        7.00000e+00, 6.00000e+00, 6.00000e+00, 5.00000e+00, 6.00000e+00,\n",
       "        9.00000e+00, 4.00000e+00, 2.00000e+00, 2.00000e+00, 4.00000e+00,\n",
       "        3.00000e+00, 4.00000e+00, 3.00000e+00, 2.00000e+00, 5.00000e+00,\n",
       "        3.00000e+00, 5.00000e+00, 2.00000e+00, 3.00000e+00, 5.00000e+00,\n",
       "        2.00000e+00, 2.00000e+00, 0.00000e+00, 1.00000e+00, 0.00000e+00,\n",
       "        2.00000e+00, 1.00000e+00, 0.00000e+00, 1.00000e+00, 2.00000e+00,\n",
       "        1.00000e+00, 1.00000e+00, 1.00000e+00, 0.00000e+00, 1.00000e+00,\n",
       "        0.00000e+00, 1.00000e+00, 0.00000e+00, 0.00000e+00, 0.00000e+00,\n",
       "        1.00000e+00, 2.00000e+00, 0.00000e+00, 1.00000e+00, 0.00000e+00,\n",
       "        0.00000e+00, 0.00000e+00, 2.00000e+00, 0.00000e+00, 0.00000e+00,\n",
       "        0.00000e+00, 0.00000e+00, 0.00000e+00, 0.00000e+00, 0.00000e+00,\n",
       "        0.00000e+00, 0.00000e+00, 0.00000e+00, 1.00000e+00, 0.00000e+00,\n",
       "        0.00000e+00, 0.00000e+00, 0.00000e+00, 1.00000e+00, 0.00000e+00,\n",
       "        0.00000e+00, 0.00000e+00, 0.00000e+00, 0.00000e+00, 0.00000e+00,\n",
       "        0.00000e+00, 0.00000e+00, 0.00000e+00, 0.00000e+00, 0.00000e+00,\n",
       "        0.00000e+00, 0.00000e+00, 0.00000e+00, 0.00000e+00, 0.00000e+00,\n",
       "        1.00000e+00, 0.00000e+00, 0.00000e+00, 0.00000e+00, 0.00000e+00,\n",
       "        0.00000e+00, 0.00000e+00, 0.00000e+00, 0.00000e+00, 1.00000e+00]),\n",
       " array([-5.37260606, -5.36153188, -5.3504577 , ...,  5.67942389,\n",
       "         5.69049807,  5.70157225]),\n",
       " <BarContainer object of 1000 artists>)"
      ]
     },
     "execution_count": 20,
     "metadata": {},
     "output_type": "execute_result"
    },
    {
     "data": {
      "image/png": "[encoded data removed]",
      "text/plain": [
       "<Figure size 640x480 with 1 Axes>"
      ]
     },
     "metadata": {},
     "output_type": "display_data"
    }
   ],
   "source": [
    "import matplotlib.pyplot as plt\n",
    "%matplotlib inline\n",
    "plt.hist(np.random.randn(100000000),bins=1000)"
   ]
  },
  {
   "cell_type": "code",
   "execution_count": null,
   "metadata": {},
   "outputs": [
    {
     "name": "stdout",
     "output_type": "stream",
     "text": [
      "0    1\n",
      "1    2\n",
      "2    3\n",
      "3    4\n",
      "4    5\n",
      "dtype: int32\n",
      "<class 'pandas.core.series.Series'>\n"
     ]
    }
   ],
   "source": [
    "import pandas as pd\n",
    "import numpy as np\n",
    "\n",
    "arr = np.array([1, 2, 3, 4, 5])\n",
    "s = pd.Series(arr)\n",
    "print(s)\n",
    "print(type(s))"
   ]
  },
  {
   "cell_type": "code",
   "execution_count": 27,
   "metadata": {},
   "outputs": [
    {
     "name": "stderr",
     "output_type": "stream",
     "text": [
      "C:\\Users\\Satyam\\AppData\\Local\\Temp\\ipykernel_56788\\1089307808.py:3: RuntimeWarning: divide by zero encountered in divide\n",
      "  a/b\n"
     ]
    },
    {
     "data": {
      "text/plain": [
       "array([ 0., inf,  0., inf,  0.])"
      ]
     },
     "execution_count": 27,
     "metadata": {},
     "output_type": "execute_result"
    }
   ],
   "source": [
    "a=np.array([0,1,0,1,0]) \n",
    "b=np.array([1,0,1,0,1]) \n",
    "a/b "
   ]
  },
  {
   "cell_type": "code",
   "execution_count": 26,
   "metadata": {},
   "outputs": [
    {
     "data": {
      "text/plain": [
       "0"
      ]
     },
     "execution_count": 26,
     "metadata": {},
     "output_type": "execute_result"
    }
   ],
   "source": [
    "1//2"
   ]
  },
  {
   "cell_type": "code",
   "execution_count": null,
   "metadata": {},
   "outputs": [],
   "source": []
  }
 ],
 "metadata": {
  "kernelspec": {
   "display_name": "Python 3",
   "language": "python",
   "name": "python3"
  },
  "language_info": {
   "codemirror_mode": {
    "name": "ipython",
    "version": 3
   },
   "file_extension": ".py",
   "mimetype": "text/x-python",
   "name": "python",
   "nbconvert_exporter": "python",
   "pygments_lexer": "ipython3",
   "version": "3.11.4"
  }
 },
 "nbformat": 4,
 "nbformat_minor": 2
}
